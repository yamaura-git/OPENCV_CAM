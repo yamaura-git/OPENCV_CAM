{
  "nbformat": 4,
  "nbformat_minor": 0,
  "metadata": {
    "colab": {
      "provenance": [],
      "authorship_tag": "ABX9TyNOFspM0FHiio+m+f1R679D",
      "include_colab_link": true
    },
    "kernelspec": {
      "name": "python3",
      "display_name": "Python 3"
    },
    "language_info": {
      "name": "python"
    }
  },
  "cells": [
    {
      "cell_type": "markdown",
      "metadata": {
        "id": "view-in-github",
        "colab_type": "text"
      },
      "source": [
        "<a href=\"https://colab.research.google.com/github/yamaura-git/OPENCV_CAM/blob/master/%E8%90%BD%E6%9B%B8%E3%81%8D%E5%B8%B3.ipynb\" target=\"_parent\"><img src=\"https://colab.research.google.com/assets/colab-badge.svg\" alt=\"Open In Colab\"/></a>"
      ]
    },
    {
      "cell_type": "code",
      "execution_count": 2,
      "metadata": {
        "colab": {
          "base_uri": "https://localhost:8080/"
        },
        "id": "ZcIsn6kdBRxd",
        "outputId": "74d76147-ef81-4449-b08c-e8902d14a3e9"
      },
      "outputs": [
        {
          "output_type": "stream",
          "name": "stdout",
          "text": [
            "2\n",
            "2\n"
          ]
        }
      ],
      "source": [
        "# 通常の関数\n",
        "def add(x, y):\n",
        "    return x + y\n",
        "\n",
        "# lambda式を使用した同じ操作\n",
        "add_lambda = lambda x, y: x + y\n",
        "\n",
        "print(add(1,1))\n",
        "print(add_lambda(1,1))"
      ]
    },
    {
      "cell_type": "code",
      "source": [
        "# 三項演算子\n",
        "a = 1\n",
        "result = 'even' if a % 2 == 0 else 'odd'\n",
        "print(result)\n",
        "# odd\n",
        "\n",
        "a = 2\n",
        "result = 'even' if a % 2 == 0 else 'odd'\n",
        "print(result)\n",
        "# even"
      ],
      "metadata": {
        "colab": {
          "base_uri": "https://localhost:8080/"
        },
        "id": "SyubzfCUIwrT",
        "outputId": "fb862d99-4399-4b81-a816-475921d545b2"
      },
      "execution_count": 3,
      "outputs": [
        {
          "output_type": "stream",
          "name": "stdout",
          "text": [
            "odd\n",
            "even\n"
          ]
        }
      ]
    },
    {
      "cell_type": "code",
      "source": [
        "# 三項演算子\n",
        "# 例1: 条件に基づいて値を選択する\n",
        "x = 5\n",
        "y = 10\n",
        "result = x if x > y else y\n",
        "print(result)  # 出力: 10\n",
        "\n",
        "# 例2: 条件に基づいて文字列を選択する\n",
        "is_sunny = True\n",
        "weather = \"Sunny\" if is_sunny else \"Rainy\"\n",
        "print(weather)  # 出力: \"Sunny\"\n",
        "\n",
        "# 例3: 条件に基づいて関数を呼び出す\n",
        "def greet(name):\n",
        "    return f\"Hello, {name}!\"\n",
        "\n",
        "name = \"Alice\"\n",
        "greeting = greet(name) if name else \"Hello, World!\"\n",
        "print(greeting)  # 出力: \"Hello, Alice!\""
      ],
      "metadata": {
        "colab": {
          "base_uri": "https://localhost:8080/"
        },
        "id": "gKUztFfKJip7",
        "outputId": "1ae6eb68-e276-4f03-a8c9-05c8095a84c5"
      },
      "execution_count": 4,
      "outputs": [
        {
          "output_type": "stream",
          "name": "stdout",
          "text": [
            "10\n",
            "Sunny\n",
            "Hello, Alice!\n"
          ]
        }
      ]
    },
    {
      "cell_type": "code",
      "source": [
        "# sorted()の使用例\n",
        "# リストの昇順ソート\n",
        "numbers = [5, 2, 9, 1, 5]\n",
        "sorted_numbers = sorted(numbers)\n",
        "print(sorted_numbers)  # 出力: [1, 2, 5, 5, 9]\n",
        "\n",
        "# リストの降順ソート\n",
        "sorted_numbers_reverse = sorted(numbers, reverse=True)\n",
        "print(sorted_numbers_reverse)  # 出力: [9, 5, 5, 2, 1]\n",
        "\n",
        "# 文字列の長さでソート\n",
        "words = [\"apple\", \"banana\", \"cherry\", \"date\"]\n",
        "sorted_words_by_length = sorted(words, key=len)\n",
        "print(sorted_words_by_length)  # 出力: ['date', 'apple', 'banana', 'cherry']"
      ],
      "metadata": {
        "colab": {
          "base_uri": "https://localhost:8080/"
        },
        "id": "q49hKuC3Mt-4",
        "outputId": "2feff777-03f2-4d4a-c897-950335efdf8c"
      },
      "execution_count": 3,
      "outputs": [
        {
          "output_type": "stream",
          "name": "stdout",
          "text": [
            "[1, 2, 5, 5, 9]\n",
            "[9, 5, 5, 2, 1]\n",
            "['date', 'apple', 'banana', 'cherry']\n"
          ]
        }
      ]
    },
    {
      "cell_type": "code",
      "source": [
        "! pip install opencv-python"
      ],
      "metadata": {
        "colab": {
          "base_uri": "https://localhost:8080/"
        },
        "id": "YwapQ6YLPOTW",
        "outputId": "bfff8f95-256d-4bf8-824c-19198d26d773"
      },
      "execution_count": 6,
      "outputs": [
        {
          "output_type": "stream",
          "name": "stdout",
          "text": [
            "Requirement already satisfied: opencv-python in /usr/local/lib/python3.10/dist-packages (4.8.0.76)\n",
            "Requirement already satisfied: numpy>=1.21.2 in /usr/local/lib/python3.10/dist-packages (from opencv-python) (1.23.5)\n"
          ]
        }
      ]
    },
    {
      "cell_type": "code",
      "source": [
        "import cv2\n",
        "print(cv2.__version__)"
      ],
      "metadata": {
        "colab": {
          "base_uri": "https://localhost:8080/"
        },
        "id": "8amvxArrR1ak",
        "outputId": "5e392666-8a1d-4d66-f6d8-bf92ae29d9c2"
      },
      "execution_count": 7,
      "outputs": [
        {
          "output_type": "stream",
          "name": "stdout",
          "text": [
            "4.8.0\n"
          ]
        }
      ]
    }
  ]
}